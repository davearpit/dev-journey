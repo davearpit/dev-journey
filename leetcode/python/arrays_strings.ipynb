{
 "cells": [
  {
   "cell_type": "code",
   "execution_count": 5,
   "metadata": {},
   "outputs": [
    {
     "data": {
      "text/plain": [
       "-100000"
      ]
     },
     "execution_count": 5,
     "metadata": {},
     "output_type": "execute_result"
    }
   ],
   "source": [
    "## 2239. Find Closest Number to Zero ##\n",
    "\n",
    "from typing import List\n",
    "\n",
    "class Solution:\n",
    "\n",
    "    @staticmethod\n",
    "    def findClosestNumber(nums: List[int]) -> int:\n",
    "        if not nums:\n",
    "            return None\n",
    "        elif len(nums) == 1:\n",
    "            return nums[0]\n",
    "\n",
    "        closestNumber = nums[0]\n",
    "        closestDistance = abs(closestNumber)\n",
    "\n",
    "        for pos in range(1, len(nums)):\n",
    "            if abs(nums[pos]) < closestDistance:\n",
    "                closestNumber = nums[pos]\n",
    "                closestDistance = abs(nums[pos])\n",
    "            elif abs(nums[pos]) == closestDistance:\n",
    "                if nums[pos] > closestNumber:\n",
    "                    closestNumber = nums[pos]\n",
    "\n",
    "        return closestNumber\n",
    "\n",
    "Solution.findClosestNumber([-100000,-100000])"
   ]
  },
  {
   "cell_type": "code",
   "execution_count": 6,
   "metadata": {},
   "outputs": [
    {
     "data": {
      "text/plain": [
       "'apbqrs'"
      ]
     },
     "execution_count": 6,
     "metadata": {},
     "output_type": "execute_result"
    }
   ],
   "source": [
    "## 1768. Merge Strings Alternately ##\n",
    "\n",
    "class Solution:\n",
    "\n",
    "    @staticmethod\n",
    "    def mergeAlternately(word1: str, word2: str) -> str:\n",
    "        wordLen1 = len(word1)\n",
    "        wordLen2 = len(word2)\n",
    "        word = \"\"\n",
    "        \n",
    "        wordLen = wordLen1 if wordLen1 >= wordLen2 else wordLen2\n",
    "        for pos in range(0, wordLen):\n",
    "            if pos < wordLen1:\n",
    "                word = word + word1[pos]\n",
    "\n",
    "            if pos < wordLen2:\n",
    "                word = word + word2[pos]\n",
    "\n",
    "        return word\n",
    "    \n",
    "Solution.mergeAlternately(word1 = \"ab\", word2 = \"pqrs\")"
   ]
  },
  {
   "cell_type": "code",
   "execution_count": 7,
   "metadata": {},
   "outputs": [
    {
     "data": {
      "text/plain": [
       "1994"
      ]
     },
     "execution_count": 7,
     "metadata": {},
     "output_type": "execute_result"
    }
   ],
   "source": [
    "## 13. Roman to Integer ##\n",
    "\n",
    "class Solution:\n",
    "\n",
    "    @staticmethod\n",
    "    def romanToInt(s: str) -> int:\n",
    "        weights = {\n",
    "            'I': 1,\n",
    "            'V': 5,\n",
    "            'X': 10,\n",
    "            'L': 50,\n",
    "            'C': 100,\n",
    "            'D': 500,\n",
    "            'M': 1000,\n",
    "\n",
    "            'IV': 4,\n",
    "            'IX': 9,\n",
    "            'IL': 49,\n",
    "            'IC': 99,\n",
    "            'ID': 499,\n",
    "            'IM': 999,\n",
    "\n",
    "            'VX': 5,\n",
    "            'VL': 45,\n",
    "            'VC': 95,\n",
    "            'VD': 495,\n",
    "            'VM': 995,\n",
    "\n",
    "            'XL': 40,\n",
    "            'XC': 90,\n",
    "            'XD': 490,\n",
    "            'XM': 990,\n",
    "\n",
    "            'LC': 50,\n",
    "            'LD': 450,\n",
    "            'LM': 950,\n",
    "\n",
    "            'CD': 400,\n",
    "            'CM': 900,\n",
    "\n",
    "            'DM': 500.\n",
    "        }\n",
    "\n",
    "        sum = 0\n",
    "        length = len(s)\n",
    "        skipFlag = False\n",
    "\n",
    "        for pos in range(0, length):\n",
    "            if skipFlag:\n",
    "                skipFlag = False\n",
    "                continue\n",
    "\n",
    "            weight = weights.get(s[pos], 0)\n",
    "            if pos + 1 < length and f'{s[pos]}{s[pos + 1]}' in weights.keys():\n",
    "                weight = weights.get(f'{s[pos]}{s[pos + 1]}', 0)\n",
    "                pos = pos + 1\n",
    "                skipFlag = True\n",
    "\n",
    "            sum = sum + weight\n",
    "\n",
    "        return sum\n",
    "\n",
    "Solution.romanToInt('MCMXCIV')"
   ]
  },
  {
   "cell_type": "code",
   "execution_count": 8,
   "metadata": {},
   "outputs": [
    {
     "data": {
      "text/plain": [
       "True"
      ]
     },
     "execution_count": 8,
     "metadata": {},
     "output_type": "execute_result"
    }
   ],
   "source": [
    "## 392. Is Subsequence ##\n",
    "\n",
    "class Solution:\n",
    "\n",
    "    @staticmethod\n",
    "    def isSubsequence(s: str, t: str) -> bool:\n",
    "        lenSubsequence = len(s)\n",
    "        if lenSubsequence == 0:\n",
    "            return True\n",
    "        else:\n",
    "            subsequenceCount = 0\n",
    "            for el in t:\n",
    "                if subsequenceCount < lenSubsequence and s[subsequenceCount] == el:\n",
    "                    subsequenceCount = subsequenceCount + 1\n",
    "\n",
    "            return subsequenceCount == lenSubsequence\n",
    "    \n",
    "Solution.isSubsequence(s = \"b\", t = \"abc\")"
   ]
  },
  {
   "cell_type": "code",
   "execution_count": 9,
   "metadata": {},
   "outputs": [],
   "source": [
    "## 121. Best Time to Buy and Sell Stock ##\n",
    "\n",
    "class Solution:\n",
    "\n",
    "    @staticmethod\n",
    "    def maxProfit(prices: List[int]) -> int:\n",
    "        if not prices:\n",
    "            return 0\n",
    "\n",
    "        min_price = float('inf')\n",
    "        max_profit = 0\n",
    "\n",
    "        for price in prices:\n",
    "            if price < min_price:\n",
    "                min_price = price\n",
    "            elif price - min_price > max_profit:\n",
    "                max_profit = price - min_price\n",
    "\n",
    "        return max_profit\n",
    "\n"
   ]
  },
  {
   "cell_type": "code",
   "execution_count": 10,
   "metadata": {},
   "outputs": [
    {
     "data": {
      "text/plain": [
       "'fl'"
      ]
     },
     "execution_count": 10,
     "metadata": {},
     "output_type": "execute_result"
    }
   ],
   "source": [
    "## 14. Longest Common Prefix ##\n",
    "\n",
    "class Solution:\n",
    "\n",
    "    @staticmethod\n",
    "    def longestCommonPrefix(strs: List[str]) -> str:\n",
    "        if strs == []:\n",
    "            return \"\"\n",
    "        \n",
    "        longestPrefix = strs[0]\n",
    "        for str in strs[1:]:\n",
    "            while str != longestPrefix:\n",
    "                if len(str) > len(longestPrefix):\n",
    "                    str = str[:-1]\n",
    "                else:\n",
    "                    longestPrefix = longestPrefix[:-1]\n",
    "        \n",
    "        return longestPrefix\n",
    "    \n",
    "Solution.longestCommonPrefix([\"flower\",\"flow\",\"flight\"])\n",
    "        "
   ]
  },
  {
   "cell_type": "code",
   "execution_count": 11,
   "metadata": {},
   "outputs": [
    {
     "data": {
      "text/plain": [
       "['0', '2->4', '6', '8->9']"
      ]
     },
     "execution_count": 11,
     "metadata": {},
     "output_type": "execute_result"
    }
   ],
   "source": [
    "## 228. Summary Ranges ##\n",
    "\n",
    "class Solution:\n",
    "\n",
    "    @staticmethod\n",
    "    def summaryRanges(nums: List[int]) -> List[str]:\n",
    "        if nums == []:\n",
    "            return []\n",
    "\n",
    "        summaryRanges = []\n",
    "        length = len(nums)\n",
    "        start = None\n",
    "\n",
    "        for pos in range(length):\n",
    "            if pos + 1 == length:\n",
    "                if start == None:\n",
    "                    summaryRanges.append(str(nums[pos]))\n",
    "                else:\n",
    "                    summaryRanges.append(f\"{start}->{nums[pos]}\")\n",
    "            else:\n",
    "                if start == None and nums[pos] + 1 != nums[pos + 1]:\n",
    "                    summaryRanges.append(str(nums[pos]))\n",
    "                else:\n",
    "                    if start == None:\n",
    "                        start = nums[pos]\n",
    "                    else:\n",
    "                        if nums[pos] + 1 != nums[pos + 1]:\n",
    "                            summaryRanges.append(f\"{start}->{nums[pos]}\")\n",
    "                            start = None\n",
    "\n",
    "        return summaryRanges\n",
    "\n",
    "Solution.summaryRanges(nums = [0,2,3,4,6,8,9])"
   ]
  },
  {
   "cell_type": "code",
   "execution_count": 12,
   "metadata": {},
   "outputs": [
    {
     "data": {
      "text/plain": [
       "[0, 0, 0]"
      ]
     },
     "execution_count": 12,
     "metadata": {},
     "output_type": "execute_result"
    }
   ],
   "source": [
    "## 238. Product of Array Except Self ##\n",
    "\n",
    "class Solution:\n",
    "    \n",
    "    @staticmethod\n",
    "    def productExceptSelf(nums: List[int]) -> List[int]:\n",
    "        isSingleZero = False\n",
    "        isMultipleZero = False\n",
    "        absSum = 0\n",
    "        product = 1\n",
    "        productArray = []\n",
    "\n",
    "        for el in nums:\n",
    "            absSum = absSum + abs(el)\n",
    "            if el == 0:\n",
    "                if isSingleZero:\n",
    "                    isMultipleZero = True\n",
    "                else:\n",
    "                    isSingleZero = True\n",
    "            else:\n",
    "                product = product * el\n",
    "\n",
    "        for pos in range(len(nums)):\n",
    "            if isSingleZero == True and nums[pos] != 0:\n",
    "                productArray.append(0)\n",
    "            elif nums[pos] == 0:\n",
    "                if isMultipleZero:\n",
    "                    productArray.append(0)\n",
    "                else:\n",
    "                    productArray.append(product)\n",
    "            else:\n",
    "                productArray.append(int(product/nums[pos]))\n",
    "\n",
    "        return productArray\n",
    "    \n",
    "Solution.productExceptSelf(nums = [0,4,0])"
   ]
  },
  {
   "cell_type": "code",
   "execution_count": 40,
   "metadata": {},
   "outputs": [
    {
     "data": {
      "text/plain": [
       "[[1, 5]]"
      ]
     },
     "execution_count": 40,
     "metadata": {},
     "output_type": "execute_result"
    }
   ],
   "source": [
    "## 56. Merge Intervals ##\n",
    "\n",
    "class Solution:\n",
    "\n",
    "    @staticmethod\n",
    "    def merge(intervals: List[List[int]]) -> List[List[int]]:\n",
    "        length = len(intervals)\n",
    "        parsedIntervals = []\n",
    "\n",
    "        intervals.sort()\n",
    "\n",
    "        pos = 0\n",
    "        while pos < length:\n",
    "            num1_low = intervals[pos][0]\n",
    "            num1_high = intervals[pos][1]\n",
    "\n",
    "            if parsedIntervals != []:\n",
    "                num2_low = parsedIntervals[-1][0]\n",
    "                num2_high = parsedIntervals[-1][1]\n",
    "                if num1_low <= num2_high:\n",
    "                    parsedIntervals[-1] = [num1_low if num1_low < num2_low else num2_low, num2_high if num1_high < num2_high else num1_high]\n",
    "                else:\n",
    "                    parsedIntervals.append([num1_low, num1_high])\n",
    "            else:\n",
    "                parsedIntervals.append([num1_low, num1_high])\n",
    "\n",
    "            pos = pos + 1\n",
    "\n",
    "        return parsedIntervals\n",
    "    \n",
    "Solution.merge(intervals = [[1,4],[4,5]])"
   ]
  },
  {
   "cell_type": "code",
   "execution_count": 1,
   "metadata": {},
   "outputs": [
    {
     "ename": "SyntaxError",
     "evalue": "incomplete input (1245325868.py, line 19)",
     "output_type": "error",
     "traceback": [
      "\u001b[1;36m  Cell \u001b[1;32mIn[1], line 19\u001b[1;36m\u001b[0m\n\u001b[1;33m    \u001b[0m\n\u001b[1;37m    ^\u001b[0m\n\u001b[1;31mSyntaxError\u001b[0m\u001b[1;31m:\u001b[0m incomplete input\n"
     ]
    }
   ],
   "source": [
    "## 54. Spiral Matrix ##\n",
    "\n",
    "class Solution:\n",
    "\n",
    "    @staticmethod\n",
    "    def spiralOrder(matrix: List[List[int]]) -> List[int]:\n",
    "        if matrix == []:\n",
    "            return []\n",
    "    \n",
    "        maxLength = len(matrix[0])\n",
    "        maxWidth = len(matrix) - 1\n",
    "        lengt = len(matrix[0])\n",
    "        width = len(matrix) - 1\n",
    "        isTraverseLength = True\n",
    "\n",
    "        while length != 1 and width !=  1:\n",
    "            if isTraverseLength:\n",
    "\n",
    "\n"
   ]
  }
 ],
 "metadata": {
  "kernelspec": {
   "display_name": "Python 3",
   "language": "python",
   "name": "python3"
  },
  "language_info": {
   "codemirror_mode": {
    "name": "ipython",
    "version": 3
   },
   "file_extension": ".py",
   "mimetype": "text/x-python",
   "name": "python",
   "nbconvert_exporter": "python",
   "pygments_lexer": "ipython3",
   "version": "3.12.5"
  }
 },
 "nbformat": 4,
 "nbformat_minor": 2
}
